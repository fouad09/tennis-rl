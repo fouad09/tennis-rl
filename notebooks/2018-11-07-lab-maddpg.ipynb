{
 "cells": [
  {
   "cell_type": "markdown",
   "metadata": {},
   "source": [
    "# Project 2: Continuous Control\n",
    "### Test 1 - MADDPG model\n",
    "\n",
    "<sub>Uirá Caiado. November 07, 2018<sub>\n",
    "\n",
    "#### Abstract\n",
    "\n",
    "_In this notebook, I will use the Unity ML-Agents environment to train a MADDPG model for the third project of the [Deep Reinforcement Learning Nanodegree](https://www.udacity.com/course/deep-reinforcement-learning-nanodegree--nd893)._\n"
   ]
  },
  {
   "cell_type": "markdown",
   "metadata": {},
   "source": [
    "## 1. What we are going to test\n",
    "\n",
    "We begin by checking if the necessary packages are presented. If the code cell below returns an error, please check if you have all the packages required in the README of this project."
   ]
  },
  {
   "cell_type": "code",
   "execution_count": 1,
   "metadata": {},
   "outputs": [
    {
     "name": "stderr",
     "output_type": "stream",
     "text": [
      "/Users/ucaiado/anaconda/envs/drlnd/lib/python3.6/importlib/_bootstrap.py:219: RuntimeWarning: numpy.dtype size changed, may indicate binary incompatibility. Expected 96, got 88\n",
      "  return f(*args, **kwds)\n"
     ]
    },
    {
     "data": {
      "application/json": {
       "Software versions": [
        {
         "module": "Python",
         "version": "3.6.6 64bit [GCC 4.2.1 Compatible Clang 4.0.1 (tags/RELEASE_401/final)]"
        },
        {
         "module": "IPython",
         "version": "7.0.1"
        },
        {
         "module": "OS",
         "version": "Darwin 17.7.0 x86_64 i386 64bit"
        },
        {
         "module": "numpy",
         "version": "1.15.0"
        },
        {
         "module": "unityagents",
         "version": "(prompt-toolkit 2.0.7 (/Users/ucaiado/anaconda/envs/drlnd/lib/python3.6/site-packages), Requirement.parse('prompt-toolkit<2.0.0,>=1.0.0'), {'jupyter-console'})"
        },
        {
         "module": "torch",
         "version": "0.4.0"
        },
        {
         "module": "matplotlib",
         "version": "2.2.3"
        },
        {
         "module": "pandas",
         "version": "0.23.4"
        },
        {
         "module": "statsmodels",
         "version": "0.9.0"
        }
       ]
      },
      "text/html": [
       "<table><tr><th>Software</th><th>Version</th></tr><tr><td>Python</td><td>3.6.6 64bit [GCC 4.2.1 Compatible Clang 4.0.1 (tags/RELEASE_401/final)]</td></tr><tr><td>IPython</td><td>7.0.1</td></tr><tr><td>OS</td><td>Darwin 17.7.0 x86_64 i386 64bit</td></tr><tr><td>numpy</td><td>1.15.0</td></tr><tr><td>unityagents</td><td>(prompt-toolkit 2.0.7 (/Users/ucaiado/anaconda/envs/drlnd/lib/python3.6/site-packages), Requirement.parse('prompt-toolkit&lt;2.0.0,&gt;=1.0.0'), {'jupyter-console'})</td></tr><tr><td>torch</td><td>0.4.0</td></tr><tr><td>matplotlib</td><td>2.2.3</td></tr><tr><td>pandas</td><td>0.23.4</td></tr><tr><td>statsmodels</td><td>0.9.0</td></tr><tr><td colspan='2'>Wed Nov 07 02:50:38 2018 -02</td></tr></table>"
      ],
      "text/latex": [
       "\\begin{tabular}{|l|l|}\\hline\n",
       "{\\bf Software} & {\\bf Version} \\\\ \\hline\\hline\n",
       "Python & 3.6.6 64bit [GCC 4.2.1 Compatible Clang 4.0.1 (tags/RELEASE\\_401/final)] \\\\ \\hline\n",
       "IPython & 7.0.1 \\\\ \\hline\n",
       "OS & Darwin 17.7.0 x86\\_64 i386 64bit \\\\ \\hline\n",
       "numpy & 1.15.0 \\\\ \\hline\n",
       "unityagents & (prompt-toolkit 2.0.7 (/Users/ucaiado/anaconda/envs/drlnd/lib/python3.6/site-packages), Requirement.parse('prompt-toolkit\\textless2.0.0,\\textgreater=1.0.0'), \\letteropenbrace{}'jupyter-console'\\letterclosebrace{}) \\\\ \\hline\n",
       "torch & 0.4.0 \\\\ \\hline\n",
       "matplotlib & 2.2.3 \\\\ \\hline\n",
       "pandas & 0.23.4 \\\\ \\hline\n",
       "statsmodels & 0.9.0 \\\\ \\hline\n",
       "\\hline \\multicolumn{2}{|l|}{Wed Nov 07 02:50:38 2018 -02} \\\\ \\hline\n",
       "\\end{tabular}\n"
      ],
      "text/plain": [
       "Software versions\n",
       "Python 3.6.6 64bit [GCC 4.2.1 Compatible Clang 4.0.1 (tags/RELEASE_401/final)]\n",
       "IPython 7.0.1\n",
       "OS Darwin 17.7.0 x86_64 i386 64bit\n",
       "numpy 1.15.0\n",
       "unityagents (prompt-toolkit 2.0.7 (/Users/ucaiado/anaconda/envs/drlnd/lib/python3.6/site-packages), Requirement.parse('prompt-toolkit<2.0.0,>=1.0.0'), {'jupyter-console'})\n",
       "torch 0.4.0\n",
       "matplotlib 2.2.3\n",
       "pandas 0.23.4\n",
       "statsmodels 0.9.0\n",
       "Wed Nov 07 02:50:38 2018 -02"
      ]
     },
     "execution_count": 1,
     "metadata": {},
     "output_type": "execute_result"
    }
   ],
   "source": [
    "%load_ext version_information\n",
    "%version_information numpy, unityagents, torch, matplotlib, pandas, statsmodels"
   ]
  },
  {
   "cell_type": "markdown",
   "metadata": {},
   "source": [
    "Now, let's define some meta variables to use in this notebook"
   ]
  },
  {
   "cell_type": "code",
   "execution_count": 9,
   "metadata": {},
   "outputs": [],
   "source": [
    "import os\n",
    "fig_prefix = 'figures/2018-11-07-'\n",
    "data_prefix = '../data/2018-11-07-'\n",
    "s_currentpath = os.getcwd()"
   ]
  },
  {
   "cell_type": "markdown",
   "metadata": {},
   "source": [
    "Finally, let's import some of the necessary packages for this experiment."
   ]
  },
  {
   "cell_type": "code",
   "execution_count": 10,
   "metadata": {},
   "outputs": [
    {
     "data": {
      "text/html": [
       "<style>\n",
       "    @font-face {\n",
       "        font-family: \"Computer Modern\";\n",
       "        src: url('style/cmunss.otf');\n",
       "    }\n",
       "    @font-face {\n",
       "        font-family: \"Computer Modern\";\n",
       "        font-weight: bold;\n",
       "        src: url('style/cmunsx.otf');\n",
       "    }\n",
       "    @font-face {\n",
       "        font-family: \"Computer Modern\";\n",
       "        font-style: oblique;\n",
       "        src: url('style/cmunsi.otf');\n",
       "    }\n",
       "    @font-face {\n",
       "        font-family: \"Computer Modern\";\n",
       "        font-weight: bold;\n",
       "        font-style: oblique;\n",
       "        src: url('style/cmunso.otf');\n",
       "    }\n",
       "\n",
       "    div.cell{\n",
       "        width:800px;\n",
       "        margin-left:16% !important;\n",
       "        margin-right:auto;\n",
       "    }\n",
       "    h1 {\n",
       "        font-family: Helvetica, serif;\n",
       "    }\n",
       "    h4{\n",
       "        margin-top:12px;\n",
       "        margin-bottom: 3px;\n",
       "       }\n",
       "    div.text_cell_render{\n",
       "        font-family: Computer Modern, \"Helvetica Neue\", Arial, Helvetica, Geneva, sans-serif;\n",
       "        line-height: 145%;\n",
       "        font-size: 130%;\n",
       "        width:800px;\n",
       "        margin-left:auto;\n",
       "        margin-right:auto;\n",
       "    }\n",
       "    .CodeMirror{\n",
       "            font-family: \"Source Code Pro\", source-code-pro,Consolas, monospace;\n",
       "    }\n",
       "    .prompt{\n",
       "        display: None;\n",
       "    }\n",
       "    .text_cell_render h5 {\n",
       "        font-weight: 300;\n",
       "        font-size: 22pt;\n",
       "        color: #4057A1;\n",
       "        font-style: italic;\n",
       "        margin-bottom: .5em;\n",
       "        margin-top: 0.5em;\n",
       "        display: block;\n",
       "    }\n",
       "\n",
       "    .warning{\n",
       "        color: rgb( 240, 20, 20 )\n",
       "        }\n",
       "</style>\n",
       "\n",
       "\n",
       "\n",
       "<style>\n",
       "    table {\n",
       "        overflow:hidden;\n",
       "        font-family: Computer Modern, \"Helvetica Neue\", Arial, Helvetica, Geneva, sans-serif;\n",
       "        font-size: 12px;\n",
       "        margin: 10px;\n",
       "        /*width: 480px;*/\n",
       "        text-align: left;\n",
       "        border-collapse: collapse;\n",
       "        border: 1px solid #d3d3d3;\n",
       "        -moz-border-radius:5px; FF1+;\n",
       "        -webkit-border-radius:5px; Saf3-4;\n",
       "        border-radius:5px;\n",
       "        -moz-box-shadow: 0 0 4px rgba(0, 0, 0, 0.01);\n",
       "    }\n",
       "    th\n",
       "    {\n",
       "        padding: 12px 17px 12px 17px;\n",
       "        font-weight: normal;\n",
       "        font-size: 14px;\n",
       "        border-bottom: 1px dashed #69c;\n",
       "    }\n",
       "\n",
       "    td\n",
       "    {\n",
       "        padding: 7px 17px 7px 17px;\n",
       "\n",
       "    }\n",
       "\n",
       "    tbody tr:hover th\n",
       "    {\n",
       "\n",
       "        background:  #E9E9E9;\n",
       "    }\n",
       "\n",
       "    tbody tr:hover td\n",
       "    {\n",
       "\n",
       "        background:  #E9E9E9;\n",
       "    }\n",
       "\n",
       "</style>\n",
       "\n",
       "<script>\n",
       "    MathJax.Hub.Config({\n",
       "                        TeX: {\n",
       "                           extensions: [\"AMSmath.js\"]\n",
       "                           },\n",
       "                tex2jax: {\n",
       "                    inlineMath: [ ['$','$'], [\"\\\\(\",\"\\\\)\"] ],\n",
       "                    displayMath: [ ['$$','$$'], [\"\\\\[\",\"\\\\]\"] ]\n",
       "                },\n",
       "                displayAlign: 'center', // Change this to 'center' to center equations.\n",
       "                \"HTML-CSS\": {\n",
       "                    styles: {'.MathJax_Display': {\"margin\": 4}}\n",
       "                }\n",
       "        });\n",
       "</script>\n"
      ],
      "text/plain": [
       "<IPython.core.display.HTML object>"
      ]
     },
     "execution_count": 10,
     "metadata": {},
     "output_type": "execute_result"
    }
   ],
   "source": [
    "import sys\n",
    "import os\n",
    "import eda\n",
    "sys.path.append(\"../\")  # include the root directory as the main\n",
    "import pandas as pd\n",
    "import numpy as np"
   ]
  },
  {
   "cell_type": "markdown",
   "metadata": {},
   "source": [
    "## 2. Exploring the Environment"
   ]
  },
  {
   "cell_type": "markdown",
   "metadata": {},
   "source": [
    "The environment used for this project is the Reacher environment, from [Unity](https://youtu.be/heVMs3t9qSk). Bellow, we are going to start this environment."
   ]
  },
  {
   "cell_type": "code",
   "execution_count": 11,
   "metadata": {},
   "outputs": [],
   "source": [
    "from drlnd import make, MADDPG, MADDPG_PARAMS"
   ]
  },
  {
   "cell_type": "code",
   "execution_count": 12,
   "metadata": {},
   "outputs": [
    {
     "name": "stderr",
     "output_type": "stream",
     "text": [
      "INFO:unityagents:\n",
      "'Academy' started successfully!\n",
      "Unity Academy name: Academy\n",
      "        Number of Brains: 1\n",
      "        Number of External Brains : 1\n",
      "        Lesson number : 0\n",
      "        Reset Parameters :\n",
      "\t\t\n",
      "Unity brain name: TennisBrain\n",
      "        Number of Visual Observations (per agent): 0\n",
      "        Vector Observation space type: continuous\n",
      "        Vector Observation space size (per agent): 8\n",
      "        Number of stacked Vector Observation: 3\n",
      "        Vector Action space type: continuous\n",
      "        Vector Action space size (per agent): 2\n",
      "        Vector Action descriptions: , \n"
     ]
    }
   ],
   "source": [
    "env = make()"
   ]
  },
  {
   "cell_type": "markdown",
   "metadata": {},
   "source": [
    "Environments contain **_brains_** which are responsible for deciding the actions of their associated agents. Here we check for the brain we will be controlling from Python."
   ]
  },
  {
   "cell_type": "code",
   "execution_count": 13,
   "metadata": {},
   "outputs": [],
   "source": [
    "# get the default brain\n",
    "env.brain_name\n",
    "brain = env.brain"
   ]
  },
  {
   "cell_type": "markdown",
   "metadata": {},
   "source": [
    "In this environment, a double-jointed arm can move to target locations. A reward of `+0.1` is provided for each step that the agent's hand is in the goal location. Thus, the goal of your agent is to maintain its position at the target location for as many time steps as possible.\n",
    "\n",
    "The observation space consists of `33` variables corresponding to position, rotation, velocity, and angular velocities of the arm.  Each action is a vector with four numbers, corresponding to torque applicable to two joints.  Every entry in the action vector must be a number between `-1` and `1`.\n",
    "\n",
    "Let's check some information about the environment below."
   ]
  },
  {
   "cell_type": "code",
   "execution_count": 14,
   "metadata": {},
   "outputs": [
    {
     "name": "stdout",
     "output_type": "stream",
     "text": [
      "Number of agents: 2\n",
      "Size of each action: 2\n",
      "There are 2 agents. Each observes a state with length: 24\n",
      "The state for the first agent looks like: [ 0.          0.          0.          0.          0.          0.\n",
      "  0.          0.          0.          0.          0.          0.\n",
      "  0.          0.          0.          0.         -6.65278625 -1.5\n",
      " -0.          0.          6.83172083  6.         -0.          0.        ]\n"
     ]
    }
   ],
   "source": [
    "# reset the environment\n",
    "states = env.reset()\n",
    "\n",
    "# number of agents\n",
    "print('Number of agents:', env.num_agents)\n",
    "\n",
    "# size of each action\n",
    "print('Size of each action:', env.action_size)\n",
    "\n",
    "# examine the state space \n",
    "state_size = states.shape[1]\n",
    "print('There are {} agents. Each observes a state with length: {}'.format(states.shape[0], state_size))\n",
    "print('The state for the first agent looks like:', states[0])"
   ]
  },
  {
   "cell_type": "markdown",
   "metadata": {},
   "source": [
    "## 3. Training the Agent"
   ]
  },
  {
   "cell_type": "markdown",
   "metadata": {},
   "source": [
    "Let's use the Python API to control the agent and receive feedback from the environment.The idea is to make the agent use its experience to gradually choose better actions when interacting with the environment. First, lest's check the agent's parameters."
   ]
  },
  {
   "cell_type": "code",
   "execution_count": 15,
   "metadata": {},
   "outputs": [
    {
     "name": "stdout",
     "output_type": "stream",
     "text": [
      "                               DDPG PARAMETERS                                \n",
      "==============================================================================\n",
      "BATCH_SIZE                        200   LR_CRITIC                        0.001\n",
      "BUFFER_SIZE                    100000   TAU                              0.001\n",
      "GAMMA                            0.99   UPDATE_EVERY                         2\n",
      "LR_ACTOR                       0.0001   WEIGHT_DECAY                    0.0001\n",
      "==============================================================================\n"
     ]
    }
   ],
   "source": [
    "print(MADDPG_PARAMS)"
   ]
  },
  {
   "cell_type": "markdown",
   "metadata": {},
   "source": [
    "Now, we are going to train the agent for 1000 episodes or until it reaches an average score of 30 over the last 100 episodes and over the 20 agents. "
   ]
  },
  {
   "cell_type": "code",
   "execution_count": 16,
   "metadata": {},
   "outputs": [
    {
     "name": "stdout",
     "output_type": "stream",
     "text": [
      "\n",
      "NN ARCHITECURES:\n",
      "agent 1:\n",
      "Actor(\n",
      "  (fc1): Linear(in_features=24, out_features=400, bias=True)\n",
      "  (fc2): Linear(in_features=400, out_features=300, bias=True)\n",
      "  (fc3): Linear(in_features=300, out_features=2, bias=True)\n",
      ")\n",
      "Critic(\n",
      "  (fcs1): Linear(in_features=52, out_features=400, bias=True)\n",
      "  (fc2): Linear(in_features=400, out_features=300, bias=True)\n",
      "  (fc3): Linear(in_features=300, out_features=1, bias=True)\n",
      ")\n",
      "\n",
      "\n",
      "agent 2:\n",
      "Actor(\n",
      "  (fc1): Linear(in_features=24, out_features=400, bias=True)\n",
      "  (fc2): Linear(in_features=400, out_features=300, bias=True)\n",
      "  (fc3): Linear(in_features=300, out_features=2, bias=True)\n",
      ")\n",
      "Critic(\n",
      "  (fcs1): Linear(in_features=52, out_features=400, bias=True)\n",
      "  (fc2): Linear(in_features=400, out_features=300, bias=True)\n",
      "  (fc3): Linear(in_features=300, out_features=1, bias=True)\n",
      ")\n",
      "\n",
      "\n",
      "\n",
      "TRAINING:\n",
      "Episode 0\tAverage Score: 0.000\tσ: 0.000\tScore: 0.000\n",
      "Episode 100\tAverage Score: 0.001\tσ: 0.010\tScore: 0.000\n",
      "Episode 200\tAverage Score: 0.006\tσ: 0.023\tScore: 0.000\n",
      "Episode 300\tAverage Score: 0.023\tσ: 0.050\tScore: 0.100\n",
      "Episode 400\tAverage Score: 0.016\tσ: 0.036\tScore: 0.000\n",
      "Episode 500\tAverage Score: 0.025\tσ: 0.043\tScore: 0.000\n",
      "Episode 600\tAverage Score: 0.026\tσ: 0.044\tScore: 0.000\n",
      "Episode 700\tAverage Score: 0.041\tσ: 0.058\tScore: 0.000\n",
      "Episode 800\tAverage Score: 0.077\tσ: 0.068\tScore: 0.090\n",
      "Episode 900\tAverage Score: 0.055\tσ: 0.053\tScore: 0.000\n",
      "Episode 1000\tAverage Score: 0.068\tσ: 0.051\tScore: 0.200\n",
      "Episode 1100\tAverage Score: 0.094\tσ: 0.052\tScore: 0.100\n",
      "Episode 1200\tAverage Score: 0.095\tσ: 0.060\tScore: 0.000\n",
      "Episode 1300\tAverage Score: 0.129\tσ: 0.105\tScore: 0.000\n",
      "Episode 1400\tAverage Score: 0.156\tσ: 0.112\tScore: 0.200\n",
      "Episode 1500\tAverage Score: 0.162\tσ: 0.166\tScore: 0.090\n",
      "Episode 1600\tAverage Score: 0.175\tσ: 0.205\tScore: 0.100\n",
      "Episode 1700\tAverage Score: 0.219\tσ: 0.270\tScore: 0.300\n",
      "Episode 1764\tAverage Score: 0.503\tσ: 0.488\tScore: 0.700\n",
      "\n",
      "Environment solved in 1764 episodes!\tAverage Score: 0.503\tσ: 0.488\n",
      "\n",
      "\n",
      "CPU times: user 1h 27min 12s, sys: 4min 52s, total: 1h 32min 4s\n",
      "Wall time: 57min 50s\n"
     ]
    }
   ],
   "source": [
    "%%time\n",
    "from collections import deque\n",
    "import pickle\n",
    "import torch\n",
    "\n",
    "episodes = 10000\n",
    "rand_seed = 0\n",
    "\n",
    "scores = []\n",
    "scores_std = []\n",
    "scores_avg = []\n",
    "scores_window = deque(maxlen=100)\n",
    "\n",
    "agent = MADDPG(env.state_size, env.action_size, env.num_agents, rand_seed)\n",
    "\n",
    "SOLVED = False\n",
    "\n",
    "print('\\nNN ARCHITECURES:')\n",
    "for ii in range(len(agent)):\n",
    "    print('agent %i:' % (ii + 1))\n",
    "    print(agent[ii].actor_local)\n",
    "    print(agent[ii].critic_local)\n",
    "    print('\\n')\n",
    "\n",
    "print('\\nTRAINING:')\n",
    "for episode in range(episodes):\n",
    "    states = env.reset()\n",
    "    score = np.zeros(len(agent))\n",
    "    for i in range(1000):\n",
    "        actions = agent.act(states, add_noise=True)\n",
    "        next_states, rewards, dones = env.step(actions)\n",
    "        agent.step(states, actions, rewards, next_states, dones)\n",
    "        score += rewards\n",
    "        states = next_states\n",
    "        if np.any(dones):\n",
    "            break\n",
    "    scores.append(np.max(score))\n",
    "    scores_window.append(np.max(score))\n",
    "    scores_avg.append(np.mean(scores_window))\n",
    "    scores_std.append(np.std(scores_window))\n",
    "    s_msg = '\\rEpisode {}\\tAverage Score: {:.3f}\\tσ: {:.3f}\\tScore: {:.3f}'\n",
    "    print(s_msg.format(episode, np.mean(scores_window),\n",
    "                       np.std(scores_window), np.max(score)), end=\"\")\n",
    "    if episode % 100 == 0:\n",
    "        print(s_msg.format(episode, np.mean(scores_window),\n",
    "                           np.std(scores_window), np.max(score)))\n",
    "    if np.mean(scores_window) >= 0.5:\n",
    "        SOLVED = True\n",
    "        s_msg = '\\n\\nEnvironment solved in {:d} episodes!\\tAverage '\n",
    "        s_msg += 'Score: {:.3f}\\tσ: {:.3f}'\n",
    "        print(s_msg.format(episode, np.mean(scores_window),\n",
    "                           np.std(scores_window)))\n",
    "        # save the models\n",
    "        s_name = agent.__name__\n",
    "        s_aux = '%scheckpoint-%s.%s.%i.pth'\n",
    "        for ii in range(len(agent)):\n",
    "            s_actor_path = s_aux % (data_prefix, s_name, 'actor', ii)\n",
    "            s_critic_path = s_aux % (data_prefix, s_name, 'critic', ii)\n",
    "            torch.save(agent[ii].actor_local.state_dict(), s_actor_path)\n",
    "            torch.save(agent[ii].critic_local.state_dict(), s_critic_path)\n",
    "        break\n",
    "\n",
    "# save data to use later\n",
    "if not SOLVED:\n",
    "    s_msg = '\\n\\nEnvironment not solved =/'\n",
    "    print(s_msg.format(episode, np.mean(scores_window),\n",
    "          np.std(scores_window)))\n",
    "print('\\n')\n",
    "d_data = {'episodes': episode,\n",
    "          'scores': scores,\n",
    "          'scores_std': scores_std,\n",
    "          'scores_avg': scores_avg,\n",
    "          'scores_window': scores_window}\n",
    "s_aux = '%ssim-data-%s.data'\n",
    "pickle.dump(d_data, open(s_aux % (data_prefix, agent.__name__), 'wb'))"
   ]
  },
  {
   "cell_type": "markdown",
   "metadata": {},
   "source": [
    "## 4. Results"
   ]
  },
  {
   "cell_type": "markdown",
   "metadata": {},
   "source": [
    "The agent using the MADDPG model was able to solve the Reacher environment in 1500 episodes of 1000 steps, each."
   ]
  },
  {
   "cell_type": "code",
   "execution_count": 17,
   "metadata": {},
   "outputs": [
    {
     "name": "stdout",
     "output_type": "stream",
     "text": [
      "Environment solved in 1764 episodes!\tAverage Score: 0.50 +- 0.49\n"
     ]
    }
   ],
   "source": [
    "import pickle\n",
    "\n",
    "d_data = pickle.load(open('%ssim-data-%s.data' % (data_prefix, agent.__name__), 'rb'))\n",
    "s_msg = 'Environment solved in {:d} episodes!\\tAverage Score: {:.2f} +- {:.2f}'\n",
    "print(s_msg.format(d_data['episodes'], np.mean(d_data['scores_window']), np.std(d_data['scores_window'])))"
   ]
  },
  {
   "cell_type": "markdown",
   "metadata": {},
   "source": [
    "Now, let's plot the rewards per episode. In the right panel, we will plot the rolling average score over 100 episodes $\\pm$ its standard deviation, as well as the goal of this project (30+ on average over the last 100 episodes)."
   ]
  },
  {
   "cell_type": "code",
   "execution_count": 20,
   "metadata": {},
   "outputs": [
    {
     "data": {
      "image/png": "[encoded data removed]",
      "text/plain": [
       "<Figure size 864x360 with 2 Axes>"
      ]
     },
     "metadata": {
      "needs_background": "light"
     },
     "output_type": "display_data"
    }
   ],
   "source": [
    "import matplotlib.pyplot as plt\n",
    "import seaborn as sns\n",
    "import numpy as np\n",
    "\n",
    "%matplotlib inline\n",
    "\n",
    "#recover data\n",
    "na_raw = np.array(d_data['scores'])\n",
    "na_mu = np.array(d_data['scores_avg'])\n",
    "na_sigma = np.array(d_data['scores_std'])\n",
    "\n",
    "# plot the scores\n",
    "f, (ax1, ax2) = plt.subplots(1, 2, figsize=(12, 5), sharex=True, sharey=False)\n",
    "\n",
    "# plot the sores by episode\n",
    "ax1.plot(np.arange(len(na_raw)), na_raw)\n",
    "ax1.set_xlim(0, len(na_raw)+1)\n",
    "ax1.set_ylabel('Score')\n",
    "ax1.set_xlabel('Episode #')\n",
    "ax1.set_title('raw scores')\n",
    "\n",
    "# plot the average of these scores\n",
    "ax2.axhline(y=0.5, xmin=0.0, xmax=1.0, color='r', linestyle='--', linewidth=0.7, alpha=0.9)\n",
    "ax2.plot(np.arange(len(na_mu)), na_mu)\n",
    "ax2.fill_between(np.arange(len(na_mu)), na_mu+na_sigma, na_mu-na_sigma, facecolor='gray', alpha=0.1)\n",
    "ax2.set_ylabel('Average Score')\n",
    "ax2.set_xlabel('Episode #')\n",
    "ax2.set_title('learning curve')\n",
    "\n",
    "f.tight_layout()"
   ]
  },
  {
   "cell_type": "code",
   "execution_count": 21,
   "metadata": {},
   "outputs": [],
   "source": [
    "f.savefig(fig_prefix + '%s-learning-curve.jpg' % agent.__name__, format='jpg')"
   ]
  },
  {
   "cell_type": "code",
   "execution_count": 22,
   "metadata": {},
   "outputs": [],
   "source": [
    "env.close()"
   ]
  },
  {
   "cell_type": "markdown",
   "metadata": {},
   "source": [
    "## 5. Conclusion"
   ]
  },
  {
   "cell_type": "markdown",
   "metadata": {},
   "source": [
    "The MADDPG agent was able to solve the environment in 258 episodes ..."
   ]
  },
  {
   "cell_type": "code",
   "execution_count": 42,
   "metadata": {},
   "outputs": [
    {
     "name": "stdout",
     "output_type": "stream",
     "text": [
      "                       episodes  mean_score  std_score\n",
      "model                                                 \n",
      "PPO with actor/critic       258   30.075059   3.739798\n",
      "DDPG                        309   30.058814   2.517842\n"
     ]
    }
   ],
   "source": [
    "import pandas as pd\n",
    "\n",
    "def extract_info(s, d_data):\n",
    "    return {'model': s,\n",
    "            'episodes': d_data['episodes'],\n",
    "            'mean_score': np.mean(d_data['scores_window']),\n",
    "            'std_score': np.std(d_data['scores_window'])}\n",
    "\n",
    "l_data = [extract_info(s, d) for s, d in zip(['PPO with actor/critic', 'DDPG'],\n",
    "                                       [d_ppo, d_ddpg])]\n",
    "\n",
    "df = pd.DataFrame(l_data)\n",
    "df.index = df.model\n",
    "df.drop('model', axis=1, inplace=True)\n",
    "print(df.sort_values(by='episodes'))\n"
   ]
  },
  {
   "cell_type": "markdown",
   "metadata": {},
   "source": [
    "Finally, let's plot the learning curve from both agents."
   ]
  },
  {
   "cell_type": "code",
   "execution_count": 18,
   "metadata": {},
   "outputs": [],
   "source": [
    "import pickle\n",
    "\n",
    "d_ddpg= pickle.load(open('../data/2018-10-07-sim-data-DDPG.data', 'rb'))\n",
    "d_ppo = pickle.load(open('../data/2018-10-22-sim-data-PPO.data', 'rb'))"
   ]
  },
  {
   "cell_type": "code",
   "execution_count": 34,
   "metadata": {},
   "outputs": [
    {
     "data": {
      "image/png": "[encoded data removed]",
      "text/plain": [
       "<Figure size 576x288 with 1 Axes>"
      ]
     },
     "metadata": {},
     "output_type": "display_data"
    }
   ],
   "source": [
    "import matplotlib.pyplot as plt\n",
    "import seaborn as sns\n",
    "import numpy as np\n",
    "\n",
    "%matplotlib inline\n",
    "\n",
    "def recover_data(d_data):\n",
    "    #recover data\n",
    "    na_raw = np.array(d_data['scores'])\n",
    "    na_mu = np.array(d_data['scores_avg'])\n",
    "    na_sigma = np.array(d_data['scores_std'])\n",
    "    return na_raw, na_mu, na_sigma\n",
    "\n",
    "# plot the scores\n",
    "f, ax2 = plt.subplots(1, 1, figsize=(8, 4), sharex=True, sharey=True)\n",
    "\n",
    "\n",
    "for  s_model, d_data in zip(['DDPG', 'PPO with actor/critic'], [d_ddpg, d_ppo]):\n",
    "\n",
    "    na_raw, na_mu, na_sigma = recover_data(d_data)\n",
    "    if s_model == 'PPO with actor/critic':\n",
    "        ax2.set_xlim(0, 310)\n",
    "        # plot the average of these scores\n",
    "        ax2.axhline(y=30., xmin=0.0, xmax=1.0, color='r', linestyle='--', linewidth=0.7, alpha=0.9)\n",
    "    ax2.plot(np.arange(len(na_mu)), na_mu, label=s_model)\n",
    "    ax2.fill_between(np.arange(len(na_mu)), na_mu+na_sigma, na_mu-na_sigma, alpha=0.15)\n",
    "\n",
    "# format axis\n",
    "ax2.legend()\n",
    "ax2.set_title('Learning Curves')\n",
    "ax2.set_ylabel('Average Score in 100 episodes')\n",
    "ax2.set_xlabel('Episode #')\n",
    "\n",
    "# Shrink current axis's height by 10% on the bottom\n",
    "box = ax2.get_position()\n",
    "ax2.set_position([box.x0, box.y0 + box.height * 0.1,\n",
    "                  box.width, box.height * 0.9])\n",
    "\n",
    "# Put a legend below current axis\n",
    "lgd = ax2.legend(loc='upper center', bbox_to_anchor=(0.5, -0.12),\n",
    "                 fancybox=False, shadow=False, ncol=2)\n",
    "lgd.get_frame().set_linewidth(0.0)\n",
    "\n",
    "f.tight_layout()"
   ]
  },
  {
   "cell_type": "code",
   "execution_count": 36,
   "metadata": {},
   "outputs": [],
   "source": [
    "f.savefig(fig_prefix + 'final-comparition.jpg', format='jpg',\n",
    "          bbox_extra_artists=(lgd,), bbox_inches='tight', dpi=1200)"
   ]
  }
 ],
 "metadata": {
  "kernel_info": {
   "name": "drlnd"
  },
  "kernelspec": {
   "display_name": "drlnd",
   "language": "python",
   "name": "drlnd"
  },
  "language_info": {
   "codemirror_mode": {
    "name": "ipython",
    "version": 3
   },
   "file_extension": ".py",
   "mimetype": "text/x-python",
   "name": "python",
   "nbconvert_exporter": "python",
   "pygments_lexer": "ipython3",
   "version": "3.6.6"
  },
  "nteract": {
   "version": "0.11.9"
  }
 },
 "nbformat": 4,
 "nbformat_minor": 2
}
